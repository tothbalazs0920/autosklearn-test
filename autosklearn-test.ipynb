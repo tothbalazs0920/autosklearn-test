{
 "cells": [
  {
   "cell_type": "code",
   "execution_count": 30,
   "metadata": {},
   "outputs": [],
   "source": [
    "import autosklearn.classification\n",
    "import sklearn.datasets\n",
    "import sklearn.metrics\n",
    "from sklearn.ensemble import GradientBoostingClassifier\n",
    "from sklearn.datasets import load_breast_cancer\n",
    "from sklearn.datasets import load_digits\n",
    "from sklearn.model_selection import train_test_split\n",
    "import numpy as np\n",
    "import warnings"
   ]
  },
  {
   "cell_type": "markdown",
   "metadata": {},
   "source": [
    "# Digits dataset"
   ]
  },
  {
   "cell_type": "markdown",
   "metadata": {},
   "source": [
    "Load the digits dataset:"
   ]
  },
  {
   "cell_type": "code",
   "execution_count": 31,
   "metadata": {},
   "outputs": [],
   "source": [
    "X, y = load_digits(return_X_y=True)\n",
    "X_train, X_test, y_train, y_test = train_test_split(X, y, random_state=1)"
   ]
  },
  {
   "cell_type": "markdown",
   "metadata": {},
   "source": [
    "Train with gradient boosting without hyperparameter tuning:"
   ]
  },
  {
   "cell_type": "code",
   "execution_count": 32,
   "metadata": {},
   "outputs": [
    {
     "name": "stdout",
     "output_type": "stream",
     "text": [
      "accuracy on training set: 1.000000\n",
      "accuracy on test set: 0.962222\n"
     ]
    }
   ],
   "source": [
    "gbrt = GradientBoostingClassifier(random_state=0)\n",
    "gbrt.fit(X_train, y_train)\n",
    "\n",
    "print(\"accuracy on training set: %f\" % gbrt.score(X_train, y_train))\n",
    "print(\"accuracy on test set: %f\" % gbrt.score(X_test, y_test))"
   ]
  },
  {
   "cell_type": "markdown",
   "metadata": {},
   "source": [
    "Train with autosklearn for 2 minutes:"
   ]
  },
  {
   "cell_type": "code",
   "execution_count": 33,
   "metadata": {},
   "outputs": [
    {
     "name": "stdout",
     "output_type": "stream",
     "text": [
      "[WARNING] [2018-11-06 16:36:05,955:EnsembleBuilder(1):d74860caaa557f473ce23908ff7ba369] No models better than random - using Dummy Classifier!\n",
      "[WARNING] [2018-11-06 16:36:05,993:EnsembleBuilder(1):d74860caaa557f473ce23908ff7ba369] No models better than random - using Dummy Classifier!\n",
      "Time limit for a single run is higher than total time limit. Capping the limit for a single run to the total time given to SMAC (118.939937)\n",
      "[WARNING] [2018-11-06 16:36:07,998:EnsembleBuilder(1):d74860caaa557f473ce23908ff7ba369] No models better than random - using Dummy Classifier!\n",
      "[WARNING] [2018-11-06 16:37:32,341:smac.intensification.intensification.Intensifier] Challenger was the same as the current incumbent; Skipping challenger\n",
      "[WARNING] [2018-11-06 16:37:32,341:smac.intensification.intensification.Intensifier] Challenger was the same as the current incumbent; Skipping challenger\n"
     ]
    }
   ],
   "source": [
    "automl = autosklearn.classification.AutoSklearnClassifier(time_left_for_this_task=120)\n",
    "with warnings.catch_warnings():\n",
    "    warnings.simplefilter(\"ignore\")\n",
    "    automl.fit(X_train, y_train)\n",
    "\n",
    "y_hat_train = automl.predict(X_train)\n",
    "y_hat_test = automl.predict(X_test)"
   ]
  },
  {
   "cell_type": "code",
   "execution_count": 34,
   "metadata": {},
   "outputs": [
    {
     "name": "stdout",
     "output_type": "stream",
     "text": [
      "accuracy on training set: 0.997030\n",
      "accuracy on test set: 0.993333\n"
     ]
    }
   ],
   "source": [
    "print(\"accuracy on training set: %f\" % sklearn.metrics.accuracy_score(y_train, y_hat_train))\n",
    "print(\"accuracy on test set: %f\" % sklearn.metrics.accuracy_score(y_test, y_hat_test))"
   ]
  },
  {
   "cell_type": "markdown",
   "metadata": {},
   "source": [
    "Show best performing model with its hyperparameters:"
   ]
  },
  {
   "cell_type": "code",
   "execution_count": 35,
   "metadata": {},
   "outputs": [
    {
     "data": {
      "text/plain": [
       "{'balancing:strategy': 'none',\n",
       " 'categorical_encoding:__choice__': 'one_hot_encoding',\n",
       " 'classifier:__choice__': 'libsvm_svc',\n",
       " 'imputation:strategy': 'median',\n",
       " 'preprocessor:__choice__': 'select_rates',\n",
       " 'rescaling:__choice__': 'standardize',\n",
       " 'categorical_encoding:one_hot_encoding:use_minimum_fraction': 'True',\n",
       " 'classifier:libsvm_svc:C': 870.2240970463429,\n",
       " 'classifier:libsvm_svc:gamma': 0.010682839357128344,\n",
       " 'classifier:libsvm_svc:kernel': 'poly',\n",
       " 'classifier:libsvm_svc:max_iter': -1,\n",
       " 'classifier:libsvm_svc:shrinking': 'False',\n",
       " 'classifier:libsvm_svc:tol': 2.4851608604406576e-05,\n",
       " 'preprocessor:select_rates:alpha': 0.4608103694360143,\n",
       " 'preprocessor:select_rates:mode': 'fdr',\n",
       " 'preprocessor:select_rates:score_func': 'f_classif',\n",
       " 'categorical_encoding:one_hot_encoding:minimum_fraction': 0.010000000000000004,\n",
       " 'classifier:libsvm_svc:coef0': 0.5325949351918051,\n",
       " 'classifier:libsvm_svc:degree': 3}"
      ]
     },
     "execution_count": 35,
     "metadata": {},
     "output_type": "execute_result"
    }
   ],
   "source": [
    "automl.cv_results_['params'][np.argmax(automl.cv_results_['mean_test_score'])]"
   ]
  },
  {
   "cell_type": "code",
   "execution_count": 36,
   "metadata": {},
   "outputs": [
    {
     "name": "stdout",
     "output_type": "stream",
     "text": [
      "auto-sklearn results:\n",
      "  Dataset name: d74860caaa557f473ce23908ff7ba369\n",
      "  Metric: accuracy\n",
      "  Best validation score: 0.986517\n",
      "  Number of target algorithm runs: 5\n",
      "  Number of successful target algorithm runs: 4\n",
      "  Number of crashed target algorithm runs: 0\n",
      "  Number of target algorithms that exceeded the time limit: 1\n",
      "  Number of target algorithms that exceeded the memory limit: 0\n",
      "\n"
     ]
    }
   ],
   "source": [
    "print(automl.sprint_statistics())"
   ]
  },
  {
   "cell_type": "markdown",
   "metadata": {},
   "source": [
    "# Breast cancer dataset"
   ]
  },
  {
   "cell_type": "markdown",
   "metadata": {},
   "source": [
    "Load the breast cancer dataset:"
   ]
  },
  {
   "cell_type": "code",
   "execution_count": 37,
   "metadata": {},
   "outputs": [],
   "source": [
    "cancer = load_breast_cancer()\n",
    "\n",
    "X_train, X_test, y_train, y_test = train_test_split(\n",
    "    cancer.data, cancer.target, random_state=0)"
   ]
  },
  {
   "cell_type": "markdown",
   "metadata": {},
   "source": [
    "Train with gradient boosting without hyperparameter tuning:"
   ]
  },
  {
   "cell_type": "code",
   "execution_count": 38,
   "metadata": {},
   "outputs": [
    {
     "name": "stdout",
     "output_type": "stream",
     "text": [
      "accuracy on training set: 1.000000\n",
      "accuracy on test set: 0.958042\n"
     ]
    }
   ],
   "source": [
    "gbrt = GradientBoostingClassifier(random_state=0)\n",
    "gbrt.fit(X_train, y_train)\n",
    "\n",
    "print(\"accuracy on training set: %f\" % gbrt.score(X_train, y_train))\n",
    "print(\"accuracy on test set: %f\" % gbrt.score(X_test, y_test))"
   ]
  },
  {
   "cell_type": "markdown",
   "metadata": {},
   "source": [
    "Train with autosklearn for 2 minutes:"
   ]
  },
  {
   "cell_type": "code",
   "execution_count": 40,
   "metadata": {},
   "outputs": [
    {
     "name": "stdout",
     "output_type": "stream",
     "text": [
      "[WARNING] [2018-11-06 16:38:58,720:EnsembleBuilder(1):528ab82dffffb5039325fc43a2c64979] No models better than random - using Dummy Classifier!\n",
      "[WARNING] [2018-11-06 16:38:58,759:EnsembleBuilder(1):528ab82dffffb5039325fc43a2c64979] No models better than random - using Dummy Classifier!\n",
      "Time limit for a single run is higher than total time limit. Capping the limit for a single run to the total time given to SMAC (118.803135)\n",
      "[WARNING] [2018-11-06 16:38:59,740:smac.intensification.intensification.Intensifier] Challenger was the same as the current incumbent; Skipping challenger\n",
      "[WARNING] [2018-11-06 16:38:59,740:smac.intensification.intensification.Intensifier] Challenger was the same as the current incumbent; Skipping challenger\n",
      "[WARNING] [2018-11-06 16:39:00,768:EnsembleBuilder(1):528ab82dffffb5039325fc43a2c64979] No models better than random - using Dummy Classifier!\n"
     ]
    }
   ],
   "source": [
    "automl = autosklearn.classification.AutoSklearnClassifier(time_left_for_this_task=120)\n",
    "with warnings.catch_warnings():\n",
    "    warnings.simplefilter(\"ignore\")\n",
    "    automl.fit(X_train, y_train)\n",
    "y_hat_train = automl.predict(X_train)\n",
    "y_hat_test = automl.predict(X_test)"
   ]
  },
  {
   "cell_type": "code",
   "execution_count": 41,
   "metadata": {},
   "outputs": [
    {
     "name": "stdout",
     "output_type": "stream",
     "text": [
      "accuracy on training set: 0.992958\n",
      "accuracy on test set: 0.965035\n"
     ]
    }
   ],
   "source": [
    "print(\"accuracy on training set: %f\" % sklearn.metrics.accuracy_score(y_train, y_hat_train))\n",
    "print(\"accuracy on test set: %f\" % sklearn.metrics.accuracy_score(y_test, y_hat_test))"
   ]
  },
  {
   "cell_type": "markdown",
   "metadata": {},
   "source": [
    "Show best performing model with its hyperparameters:"
   ]
  },
  {
   "cell_type": "code",
   "execution_count": 43,
   "metadata": {},
   "outputs": [
    {
     "data": {
      "text/plain": [
       "{'balancing:strategy': 'weighting',\n",
       " 'categorical_encoding:__choice__': 'no_encoding',\n",
       " 'classifier:__choice__': 'extra_trees',\n",
       " 'imputation:strategy': 'median',\n",
       " 'preprocessor:__choice__': 'polynomial',\n",
       " 'rescaling:__choice__': 'minmax',\n",
       " 'classifier:extra_trees:bootstrap': 'False',\n",
       " 'classifier:extra_trees:criterion': 'gini',\n",
       " 'classifier:extra_trees:max_depth': 'None',\n",
       " 'classifier:extra_trees:max_features': 0.5670424455696162,\n",
       " 'classifier:extra_trees:max_leaf_nodes': 'None',\n",
       " 'classifier:extra_trees:min_impurity_decrease': 0.0,\n",
       " 'classifier:extra_trees:min_samples_leaf': 8,\n",
       " 'classifier:extra_trees:min_samples_split': 16,\n",
       " 'classifier:extra_trees:min_weight_fraction_leaf': 0.0,\n",
       " 'classifier:extra_trees:n_estimators': 100,\n",
       " 'preprocessor:polynomial:degree': 3,\n",
       " 'preprocessor:polynomial:include_bias': 'True',\n",
       " 'preprocessor:polynomial:interaction_only': 'False'}"
      ]
     },
     "execution_count": 43,
     "metadata": {},
     "output_type": "execute_result"
    }
   ],
   "source": [
    "automl.cv_results_['params'][np.argmax(automl.cv_results_['mean_test_score'])]"
   ]
  },
  {
   "cell_type": "code",
   "execution_count": 44,
   "metadata": {},
   "outputs": [
    {
     "name": "stdout",
     "output_type": "stream",
     "text": [
      "auto-sklearn results:\n",
      "  Dataset name: 528ab82dffffb5039325fc43a2c64979\n",
      "  Metric: accuracy\n",
      "  Best validation score: 0.978723\n",
      "  Number of target algorithm runs: 22\n",
      "  Number of successful target algorithm runs: 21\n",
      "  Number of crashed target algorithm runs: 0\n",
      "  Number of target algorithms that exceeded the time limit: 1\n",
      "  Number of target algorithms that exceeded the memory limit: 0\n",
      "\n"
     ]
    }
   ],
   "source": [
    "print(automl.sprint_statistics())"
   ]
  }
 ],
 "metadata": {
  "kernelspec": {
   "display_name": "Python 3",
   "language": "python",
   "name": "python3"
  },
  "language_info": {
   "codemirror_mode": {
    "name": "ipython",
    "version": 3
   },
   "file_extension": ".py",
   "mimetype": "text/x-python",
   "name": "python",
   "nbconvert_exporter": "python",
   "pygments_lexer": "ipython3",
   "version": "3.7.0"
  }
 },
 "nbformat": 4,
 "nbformat_minor": 2
}
